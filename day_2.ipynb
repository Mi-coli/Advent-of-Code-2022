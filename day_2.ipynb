{
 "cells": [
  {
   "cell_type": "markdown",
   "id": "b5992b00",
   "metadata": {},
   "source": [
    "# Advent of Code: Day 2\n",
    "\n",
    "# Rock, Paper, Scissors (Part 1 & 2)\n",
    "\n",
    "## Problem Statement:\n",
    "\n",
    "Part 1:\n",
    "<br>The Elves begin to set up camp on the beach. To decide whose tent gets to be closest to the snack storage, a giant Rock Paper Scissors tournament is already in progress.\n",
    "\n",
    "Rock Paper Scissors is a game between two players. Each game contains many rounds; in each round, the players each simultaneously choose one of Rock, Paper, or Scissors using a hand shape. Then, a winner for that round is selected: Rock defeats Scissors, Scissors defeats Paper, and Paper defeats Rock. If both players choose the same shape, the round instead ends in a draw.\n",
    "\n",
    "Appreciative of your help yesterday, one Elf gives you an encrypted strategy guide (your puzzle input) that they say will be sure to help you win. \"The first column is what your opponent is going to play: A for Rock, B for Paper, and C for Scissors. The second column--\" Suddenly, the Elf is called away to help with someone's tent.\n",
    "\n",
    "The second column, you reason, must be what you should play in response: X for Rock, Y for Paper, and Z for Scissors. Winning every time would be suspicious, so the responses must have been carefully chosen.\n",
    "\n",
    "The winner of the whole tournament is the player with the highest score. Your total score is the sum of your scores for each round. The score for a single round is the score for the shape you selected (1 for Rock, 2 for Paper, and 3 for Scissors) plus the score for the outcome of the round (0 if you lost, 3 if the round was a draw, and 6 if you won).\n",
    "\n",
    "Since you can't be sure if the Elf is trying to help you or trick you, you should calculate the score you would get if you were to follow the strategy guide.\n",
    "\n",
    "For example, suppose you were given the following strategy guide:\n",
    "<br>A Y\n",
    "<br>B X\n",
    "<br>C Z\n",
    "\n",
    "This strategy guide predicts and recommends the following:\n",
    "\n",
    "In the first round, your opponent will choose Rock (A), and you should choose Paper (Y). This ends in a win for you with a score of 8 (2 because you chose Paper + 6 because you won).\n",
    "In the second round, your opponent will choose Paper (B), and you should choose Rock (X). This ends in a loss for you with a score of 1 (1 + 0).\n",
    "The third round is a draw with both players choosing Scissors, giving you a score of 3 + 3 = 6.\n",
    "In this example, if you were to follow the strategy guide, you would get a total score of 15 (8 + 1 + 6).\n",
    "\n",
    "What would your total score be if everything goes exactly according to your strategy guide?"
   ]
  },
  {
   "cell_type": "markdown",
   "id": "a00b6e7c",
   "metadata": {},
   "source": [
    "### Solution"
   ]
  },
  {
   "cell_type": "markdown",
   "id": "40dbe54e",
   "metadata": {},
   "source": [
    "First we identify everything we know"
   ]
  },
  {
   "cell_type": "code",
   "execution_count": 1,
   "id": "71823859",
   "metadata": {},
   "outputs": [],
   "source": [
    "puzzle_input = \"\"\"\n",
    "A Y\n",
    "B X\n",
    "C Z\n",
    "\"\"\"\n",
    "\n",
    "encodings = {\n",
    "    \"A\": \"Rock\",\n",
    "    \"B\": \"Paper\",\n",
    "    \"C\": \"Scissors\",\n",
    "    \"X\": \"Rock\",\n",
    "    \"Y\": \"Paper\",\n",
    "    \"Z\": \"Scissors\",\n",
    "}\n",
    "\n",
    "shape_scores = {\"Rock\": 1, \"Paper\": 2, \"Scissors\": 3}\n",
    "outcome_scores = {\"Tie\": 3, \"Win\": 6, \"Loss\": 0}"
   ]
  },
  {
   "cell_type": "code",
   "execution_count": 2,
   "id": "d0f40fec",
   "metadata": {},
   "outputs": [],
   "source": [
    "coded_games = [x.split() for x in puzzle_input.strip().split(\"\\n\")]"
   ]
  },
  {
   "cell_type": "code",
   "execution_count": 3,
   "id": "556ab32d",
   "metadata": {},
   "outputs": [
    {
     "data": {
      "text/plain": [
       "[['A', 'Y'], ['B', 'X'], ['C', 'Z']]"
      ]
     },
     "execution_count": 3,
     "metadata": {},
     "output_type": "execute_result"
    }
   ],
   "source": [
    "coded_games"
   ]
  },
  {
   "cell_type": "code",
   "execution_count": 4,
   "id": "b6b741e7",
   "metadata": {},
   "outputs": [],
   "source": [
    "games = [(encodings[x[0]], encodings[x[1]]) for x in coded_games]"
   ]
  },
  {
   "cell_type": "code",
   "execution_count": 5,
   "id": "447deb26",
   "metadata": {},
   "outputs": [
    {
     "data": {
      "text/plain": [
       "[('Rock', 'Paper'), ('Paper', 'Rock'), ('Scissors', 'Scissors')]"
      ]
     },
     "execution_count": 5,
     "metadata": {},
     "output_type": "execute_result"
    }
   ],
   "source": [
    "games"
   ]
  },
  {
   "cell_type": "code",
   "execution_count": null,
   "id": "b21b8287",
   "metadata": {},
   "outputs": [],
   "source": []
  },
  {
   "cell_type": "markdown",
   "id": "0a2b56fe",
   "metadata": {},
   "source": [
    "Now we can set up the actual game"
   ]
  },
  {
   "cell_type": "code",
   "execution_count": 6,
   "id": "e1c5dc28",
   "metadata": {},
   "outputs": [],
   "source": [
    "def who_wins(elf, me):\n",
    "    score = shape_scores[me]\n",
    "    \n",
    "    if me == \"Rock\" and elf == \"Paper\":\n",
    "        return score + outcome_scores[\"Loss\"]\n",
    "    \n",
    "    if me == \"Rock\" and elf == \"Scissors\":\n",
    "        return score + outcome_scores[\"Win\"]\n",
    "    \n",
    "    if me == \"Paper\" and elf == \"Scissors\":\n",
    "        return score + outcome_scores[\"Loss\"]\n",
    "    \n",
    "    if me == \"Paper\" and elf == \"Rock\":\n",
    "        return score + outcome_scores[\"Win\"]\n",
    "    \n",
    "    if me == \"Scissors\" and elf == \"Paper\":\n",
    "        return score + outcome_scores[\"Win\"]\n",
    "    \n",
    "    if me == \"Scissors\" and elf == \"Rock\":\n",
    "        return score + outcome_scores[\"Loss\"]\n",
    "    \n",
    "    #for the \"ties\" we don't have to write out each individual outcome and can just do this\n",
    "    if me == elf:\n",
    "        return score + outcome_scores[\"Tie\"]  "
   ]
  },
  {
   "cell_type": "markdown",
   "id": "487cc9fa",
   "metadata": {},
   "source": [
    "Test function on 'games'"
   ]
  },
  {
   "cell_type": "code",
   "execution_count": 7,
   "id": "0d969c20",
   "metadata": {},
   "outputs": [
    {
     "data": {
      "text/plain": [
       "[8, 1, 6]"
      ]
     },
     "execution_count": 7,
     "metadata": {},
     "output_type": "execute_result"
    }
   ],
   "source": [
    "[who_wins(*game) for game in games]"
   ]
  },
  {
   "cell_type": "markdown",
   "id": "a6942b54",
   "metadata": {},
   "source": [
    "Works! We can use it for the actual input now"
   ]
  },
  {
   "cell_type": "code",
   "execution_count": 12,
   "id": "87ce3961",
   "metadata": {},
   "outputs": [],
   "source": [
    "with open(\"input_2.txt\") as file:\n",
    "    df = file.read()"
   ]
  },
  {
   "cell_type": "code",
   "execution_count": 14,
   "id": "14770a32",
   "metadata": {},
   "outputs": [],
   "source": [
    "coded_games = [x.split() for x in df.strip().split(\"\\n\")]"
   ]
  },
  {
   "cell_type": "code",
   "execution_count": 16,
   "id": "5bfa38ca",
   "metadata": {},
   "outputs": [],
   "source": [
    "games = [(encodings[x[0]], encodings[x[1]]) for x in coded_games]"
   ]
  },
  {
   "cell_type": "code",
   "execution_count": 18,
   "id": "05b7f905",
   "metadata": {},
   "outputs": [
    {
     "data": {
      "text/plain": [
       "[('Scissors', 'Scissors'),\n",
       " ('Scissors', 'Scissors'),\n",
       " ('Rock', 'Paper'),\n",
       " ('Rock', 'Rock'),\n",
       " ('Scissors', 'Scissors'),\n",
       " ('Scissors', 'Scissors'),\n",
       " ('Rock', 'Rock'),\n",
       " ('Scissors', 'Rock'),\n",
       " ('Rock', 'Rock'),\n",
       " ('Scissors', 'Rock')]"
      ]
     },
     "execution_count": 18,
     "metadata": {},
     "output_type": "execute_result"
    }
   ],
   "source": [
    "games[:10]"
   ]
  },
  {
   "cell_type": "code",
   "execution_count": 20,
   "id": "69a5aa15",
   "metadata": {},
   "outputs": [
    {
     "data": {
      "text/plain": [
       "12156"
      ]
     },
     "execution_count": 20,
     "metadata": {},
     "output_type": "execute_result"
    }
   ],
   "source": [
    "sum([who_wins(*game) for game in games])"
   ]
  },
  {
   "cell_type": "markdown",
   "id": "960586f3",
   "metadata": {},
   "source": [
    "Woohoo! Advent of Code confirms that this is the correct solution!"
   ]
  },
  {
   "cell_type": "code",
   "execution_count": null,
   "id": "5d2dc94c",
   "metadata": {},
   "outputs": [],
   "source": []
  }
 ],
 "metadata": {
  "kernelspec": {
   "display_name": "Python 3",
   "language": "python",
   "name": "python3"
  },
  "language_info": {
   "codemirror_mode": {
    "name": "ipython",
    "version": 3
   },
   "file_extension": ".py",
   "mimetype": "text/x-python",
   "name": "python",
   "nbconvert_exporter": "python",
   "pygments_lexer": "ipython3",
   "version": "3.9.1"
  }
 },
 "nbformat": 4,
 "nbformat_minor": 5
}
