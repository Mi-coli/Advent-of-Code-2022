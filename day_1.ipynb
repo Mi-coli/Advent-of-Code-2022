{
 "cells": [
  {
   "cell_type": "markdown",
   "id": "bd67fb31",
   "metadata": {},
   "source": [
    "# Advent of Code, Day 1\n",
    "# Calorie Counting (Part 1 & 2)\n",
    "\n",
    "### Problem Statement:\n",
    "\n",
    "Part 1: \n",
    "<br>The jungle must be too overgrown and difficult to navigate in vehicles or access from the air; the Elves' expedition traditionally goes on foot. As your boats approach land, the Elves begin taking inventory of their supplies. One important consideration is food - in particular, the number of Calories each Elf is carrying (your puzzle input).\n",
    "\n",
    "The Elves take turns writing down the number of Calories contained by the various meals, snacks, rations, etc. that they've brought with them, one item per line. Each Elf separates their own inventory from the previous Elf's inventory (if any) by a blank line.\n",
    "\n",
    "For example, suppose the Elves finish writing their items' Calories and end up with the following list:\n",
    "\n",
    "1000\n",
    "<br>2000\n",
    "<br>3000\n",
    "\n",
    "4000\n",
    "\n",
    "5000\n",
    "<br>6000\n",
    "\n",
    "7000\n",
    "<br>8000\n",
    "<br>9000\n",
    "\n",
    "10000\n",
    "\n",
    "This list represents the Calories of the food carried by five Elves:\n",
    "\n",
    "The first Elf is carrying food with 1000, 2000, and 3000 Calories, a total of 6000 Calories.\n",
    "The second Elf is carrying one food item with 4000 Calories.\n",
    "The third Elf is carrying food with 5000 and 6000 Calories, a total of 11000 Calories.\n",
    "The fourth Elf is carrying food with 7000, 8000, and 9000 Calories, a total of 24000 Calories.\n",
    "The fifth Elf is carrying one food item with 10000 Calories.\n",
    "In case the Elves get hungry and need extra snacks, they need to know which Elf to ask: they'd like to know how many Calories are being carried by the Elf carrying the most Calories. In the example above, this is 24000 (carried by the fourth Elf).\n",
    "\n",
    "Find the Elf carrying the most Calories. How many total Calories is that Elf carrying?\n",
    "\n",
    "Part 2: \n",
    "<br>By the time you calculate the answer to the Elves' question, they've already realized that the Elf carrying the most Calories of food might eventually run out of snacks.\n",
    "\n",
    "To avoid this unacceptable situation, the Elves would instead like to know the total Calories carried by the top three Elves carrying the most Calories. That way, even if one of those Elves runs out of snacks, they still have two backups.\n",
    "\n",
    "In the example above, the top three Elves are the fourth Elf (with 24000 Calories), then the third Elf (with 11000 Calories), then the fifth Elf (with 10000 Calories). The sum of the Calories carried by these three elves is 45000.\n",
    "\n",
    "Find the top three Elves carrying the most Calories. How many Calories are those Elves carrying in total?"
   ]
  },
  {
   "cell_type": "markdown",
   "id": "c5be0cc9",
   "metadata": {},
   "source": [
    "The input is saved in a separate file called input_1.txt"
   ]
  },
  {
   "cell_type": "code",
   "execution_count": 1,
   "id": "5ce0619a",
   "metadata": {},
   "outputs": [],
   "source": [
    "with open(\"input_1.txt\") as file:\n",
    "    df = [i for i in file.read().strip().split(\"\\n\")]"
   ]
  },
  {
   "cell_type": "markdown",
   "id": "1e1286c6",
   "metadata": {},
   "source": [
    "#### I thought of two approaches for this. The first one is what I did initially, and the second is more efficient "
   ]
  },
  {
   "cell_type": "markdown",
   "id": "4b58d18a",
   "metadata": {},
   "source": [
    "### Approach #1"
   ]
  },
  {
   "cell_type": "code",
   "execution_count": 2,
   "id": "3540214c",
   "metadata": {},
   "outputs": [
    {
     "name": "stdout",
     "output_type": "stream",
     "text": [
      "The highest number of calories is:  69281\n",
      "The number of calories carried by top 3 Elves is:  201524\n"
     ]
    }
   ],
   "source": [
    "highest = 0\n",
    "second_highest = 0\n",
    "third_highest = 0\n",
    "count = 0\n",
    "for i in df:\n",
    "    if i == \"\":\n",
    "        count = 0\n",
    "    else:\n",
    "        numeric = int(i)\n",
    "        count += numeric\n",
    "    #Here we find the values of the highest amount of calories    \n",
    "    if count > highest:\n",
    "        third_highest = second_highest\n",
    "        second_highest = highest\n",
    "        highest = count\n",
    "    elif count > second_highest:\n",
    "        third_highest = second_highest\n",
    "        second_highest = count\n",
    "    elif count > third_highest:\n",
    "        third_highest = count\n",
    "\n",
    "combined_calories = highest + second_highest + third_highest        \n",
    "print(\"The highest number of calories is: \", highest)\n",
    "print(\"The number of calories carried by top 3 Elves is: \", combined_calories)"
   ]
  },
  {
   "cell_type": "markdown",
   "id": "a5c96538",
   "metadata": {},
   "source": [
    "### Approach #2\n",
    "#### Better of the two"
   ]
  },
  {
   "cell_type": "code",
   "execution_count": 3,
   "id": "731dd682",
   "metadata": {},
   "outputs": [],
   "source": [
    "with open(\"input_1.txt\") as f:\n",
    "    raw_input = f.read()"
   ]
  },
  {
   "cell_type": "code",
   "execution_count": 4,
   "id": "adb2d55f",
   "metadata": {},
   "outputs": [
    {
     "data": {
      "text/plain": [
       "'9195\\n5496\\n2732\\n8364\\n3703\\n3199\\n7177\\n1659\\n\\n7307\\n2177\\n1011\\n8678\\n14080\\n\\n6465\\n6922\\n3733\\n8573\\n6749\\n1704\\n6429\\n8774\\n1296\\n2536\\n\\n22456\\n\\n11642\\n10162\\n10997\\n6963\\n3076\\n5859\\n1280\\n\\n5285\\n7498\\n8540\\n7360\\n6822\\n8042\\n6798\\n6398\\n4495\\n8043\\n\\n60304\\n\\n2947\\n24880\\n21239\\n\\n8441\\n1034\\n2591\\n8993\\n10366\\n1313\\n10497\\n\\n3404\\n5018\\n5377\\n4783\\n6441\\n5110\\n5688\\n3371\\n1220\\n4949\\n2945\\n6041\\n2852\\n2379\\n\\n15514\\n13699\\n10357\\n9769\\n\\n11464\\n2001\\n2847\\n9933\\n2706\\n8621\\n2064\\n\\n5478\\n2981\\n6540\\n2303\\n4607\\n5284\\n4762\\n3936\\n3194\\n4371\\n2925\\n3124\\n4491\\n\\n8542\\n7605\\n3773\\n8575\\n3405\\n4720\\n7857\\n7427\\n5182\\n3977\\n\\n9405\\n16048\\n4142\\n9101\\n16303\\n\\n6102\\n1795\\n1053\\n2091\\n5774\\n6053\\n4997\\n2109\\n1019\\n3830\\n6057\\n4772\\n3344\\n\\n11299\\n16115\\n11748\\n14944\\n\\n4477\\n6292\\n8257\\n9583\\n10416\\n2730\\n2153\\n5887\\n\\n4790\\n1198\\n2184\\n3604\\n4004\\n1543\\n5017\\n5409\\n3489\\n4731\\n3302\\n3046\\n1056\\n\\n2260\\n3028\\n7305\\n4516\\n11415\\n4855\\n4297\\n\\n1669\\n4175\\n6403\\n4004\\n1711\\n8509\\n4874\\n3756\\n6893\\n8463\\n\\n6333\\n1576\\n4576\\n4288\\n3764\\n\\n1831\\n1336\\n1579\\n3704\\n3215\\n4702\\n5798\\n2714\\n2917\\n1616\\n5564\\n5061\\n3188\\n4473\\n3457\\n\\n4140\\n3428\\n4274\\n6158\\n4641\\n3009\\n6576\\n6065\\n1912\\n6539\\n6603\\n'"
      ]
     },
     "execution_count": 4,
     "metadata": {},
     "output_type": "execute_result"
    }
   ],
   "source": [
    "#Don't want to print the entire output because it takes up too much space,\n",
    "#but this is the general format\n",
    "#Each \"snack\" is separated by \"\\n\", and each Elf is separated by \"\\n\\n\"\n",
    "raw_input[:1000]"
   ]
  },
  {
   "cell_type": "code",
   "execution_count": 5,
   "id": "8166136a",
   "metadata": {},
   "outputs": [],
   "source": [
    "split_input = raw_input.strip().split(\"\\n\\n\")"
   ]
  },
  {
   "cell_type": "code",
   "execution_count": 6,
   "id": "c56351a6",
   "metadata": {},
   "outputs": [
    {
     "data": {
      "text/plain": [
       "['9195\\n5496\\n2732\\n8364\\n3703\\n3199\\n7177\\n1659',\n",
       " '7307\\n2177\\n1011\\n8678\\n14080',\n",
       " '6465\\n6922\\n3733\\n8573\\n6749\\n1704\\n6429\\n8774\\n1296\\n2536',\n",
       " '22456',\n",
       " '11642\\n10162\\n10997\\n6963\\n3076\\n5859\\n1280',\n",
       " '5285\\n7498\\n8540\\n7360\\n6822\\n8042\\n6798\\n6398\\n4495\\n8043',\n",
       " '60304',\n",
       " '2947\\n24880\\n21239',\n",
       " '8441\\n1034\\n2591\\n8993\\n10366\\n1313\\n10497',\n",
       " '3404\\n5018\\n5377\\n4783\\n6441\\n5110\\n5688\\n3371\\n1220\\n4949\\n2945\\n6041\\n2852\\n2379']"
      ]
     },
     "execution_count": 6,
     "metadata": {},
     "output_type": "execute_result"
    }
   ],
   "source": [
    "split_input[:10]"
   ]
  },
  {
   "cell_type": "code",
   "execution_count": 7,
   "id": "939537fa",
   "metadata": {},
   "outputs": [],
   "source": [
    "calories = [x.split() for x in split_input]"
   ]
  },
  {
   "cell_type": "code",
   "execution_count": 8,
   "id": "a3b00aa1",
   "metadata": {
    "scrolled": false
   },
   "outputs": [
    {
     "data": {
      "text/plain": [
       "[['9195', '5496', '2732', '8364', '3703', '3199', '7177', '1659'],\n",
       " ['7307', '2177', '1011', '8678', '14080'],\n",
       " ['6465',\n",
       "  '6922',\n",
       "  '3733',\n",
       "  '8573',\n",
       "  '6749',\n",
       "  '1704',\n",
       "  '6429',\n",
       "  '8774',\n",
       "  '1296',\n",
       "  '2536'],\n",
       " ['22456'],\n",
       " ['11642', '10162', '10997', '6963', '3076', '5859', '1280'],\n",
       " ['5285',\n",
       "  '7498',\n",
       "  '8540',\n",
       "  '7360',\n",
       "  '6822',\n",
       "  '8042',\n",
       "  '6798',\n",
       "  '6398',\n",
       "  '4495',\n",
       "  '8043'],\n",
       " ['60304'],\n",
       " ['2947', '24880', '21239'],\n",
       " ['8441', '1034', '2591', '8993', '10366', '1313', '10497'],\n",
       " ['3404',\n",
       "  '5018',\n",
       "  '5377',\n",
       "  '4783',\n",
       "  '6441',\n",
       "  '5110',\n",
       "  '5688',\n",
       "  '3371',\n",
       "  '1220',\n",
       "  '4949',\n",
       "  '2945',\n",
       "  '6041',\n",
       "  '2852',\n",
       "  '2379']]"
      ]
     },
     "execution_count": 8,
     "metadata": {},
     "output_type": "execute_result"
    }
   ],
   "source": [
    "calories[:10]"
   ]
  },
  {
   "cell_type": "code",
   "execution_count": 9,
   "id": "1a4d2855",
   "metadata": {},
   "outputs": [],
   "source": [
    "calories = [sum(int(x) for x in each) for each in calories]"
   ]
  },
  {
   "cell_type": "markdown",
   "id": "14cfabf3",
   "metadata": {},
   "source": [
    "We now have the sum of all calories that each Elf is carrying "
   ]
  },
  {
   "cell_type": "code",
   "execution_count": 10,
   "id": "9d83cb90",
   "metadata": {},
   "outputs": [
    {
     "data": {
      "text/plain": [
       "[41525, 33253, 53181, 22456, 49979, 69281, 60304, 49066, 43235, 59578]"
      ]
     },
     "execution_count": 10,
     "metadata": {},
     "output_type": "execute_result"
    }
   ],
   "source": [
    "calories[:10]"
   ]
  },
  {
   "cell_type": "markdown",
   "id": "299fcf78",
   "metadata": {},
   "source": [
    "We can take a max() of those to find how much the Elf with the most calories is carrying"
   ]
  },
  {
   "cell_type": "code",
   "execution_count": 11,
   "id": "e2c23cc9",
   "metadata": {},
   "outputs": [
    {
     "data": {
      "text/plain": [
       "69281"
      ]
     },
     "execution_count": 11,
     "metadata": {},
     "output_type": "execute_result"
    }
   ],
   "source": [
    "max(calories)"
   ]
  },
  {
   "cell_type": "markdown",
   "id": "172f69ac",
   "metadata": {},
   "source": [
    "To solve for part 2, we want to find how many calories the top 3 elves are carrying"
   ]
  },
  {
   "cell_type": "code",
   "execution_count": 12,
   "id": "ff0f65a2",
   "metadata": {},
   "outputs": [
    {
     "data": {
      "text/plain": [
       "201524"
      ]
     },
     "execution_count": 12,
     "metadata": {},
     "output_type": "execute_result"
    }
   ],
   "source": [
    "sum(sorted(calories)[-3:])"
   ]
  },
  {
   "cell_type": "markdown",
   "id": "ca2dddf0",
   "metadata": {},
   "source": [
    "## Answers Match For Both Approaches!!"
   ]
  }
 ],
 "metadata": {
  "kernelspec": {
   "display_name": "Python 3",
   "language": "python",
   "name": "python3"
  },
  "language_info": {
   "codemirror_mode": {
    "name": "ipython",
    "version": 3
   },
   "file_extension": ".py",
   "mimetype": "text/x-python",
   "name": "python",
   "nbconvert_exporter": "python",
   "pygments_lexer": "ipython3",
   "version": "3.9.1"
  }
 },
 "nbformat": 4,
 "nbformat_minor": 5
}
